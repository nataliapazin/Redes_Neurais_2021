{
  "nbformat": 4,
  "nbformat_minor": 0,
  "metadata": {
    "colab": {
      "name": "RN_24_03_21.ipynb",
      "provenance": [],
      "collapsed_sections": [],
      "authorship_tag": "ABX9TyOHKbcHmijBM5CJzfCrIfh1",
      "include_colab_link": true
    },
    "kernelspec": {
      "name": "python3",
      "display_name": "Python 3"
    },
    "language_info": {
      "name": "python"
    }
  },
  "cells": [
    {
      "cell_type": "markdown",
      "metadata": {
        "id": "view-in-github",
        "colab_type": "text"
      },
      "source": [
        "<a href=\"https://colab.research.google.com/github/nataliapazin/Redes_Neurais_2021/blob/main/RN_24_03_21.ipynb\" target=\"_parent\"><img src=\"https://colab.research.google.com/assets/colab-badge.svg\" alt=\"Open In Colab\"/></a>"
      ]
    },
    {
      "cell_type": "code",
      "metadata": {
        "id": "XeNTZ1JnZf1z"
      },
      "source": [
        "import numpy as np\n",
        "from Volume import Vol"
      ],
      "execution_count": null,
      "outputs": []
    },
    {
      "cell_type": "code",
      "metadata": {
        "id": "-Jrj2IHfX_LH"
      },
      "source": [
        "def Vol(x):\n",
        "  Volume = []\n",
        "  for d in x:\n",
        "    Volume.append(np.pi*d**3/4)\n",
        "  return Volume\n"
      ],
      "execution_count": null,
      "outputs": []
    },
    {
      "cell_type": "code",
      "metadata": {
        "colab": {
          "base_uri": "https://localhost:8080/"
        },
        "id": "dj52lqZJYsQZ",
        "outputId": "75533612-b3bd-4299-b70f-fab90fe9151e"
      },
      "source": [
        "Diam = [2,4,6,8,10]\n",
        "Volume = Vol(Diam)\n",
        "print(Volume)"
      ],
      "execution_count": null,
      "outputs": [
        {
          "output_type": "stream",
          "text": [
            "[6.283185307179586, 50.26548245743669, 169.64600329384882, 402.1238596594935, 785.3981633974482]\n"
          ],
          "name": "stdout"
        }
      ]
    }
  ]
}